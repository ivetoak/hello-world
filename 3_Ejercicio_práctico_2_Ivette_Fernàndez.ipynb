{
  "nbformat": 4,
  "nbformat_minor": 0,
  "metadata": {
    "colab": {
      "provenance": [],
      "include_colab_link": true
    },
    "kernelspec": {
      "name": "python3",
      "display_name": "Python 3"
    },
    "language_info": {
      "name": "python"
    }
  },
  "cells": [
    {
      "cell_type": "markdown",
      "metadata": {
        "id": "view-in-github",
        "colab_type": "text"
      },
      "source": [
        "<a href=\"https://colab.research.google.com/github/ivetoak/hello-world/blob/main/3_Ejercicio_pr%C3%A1ctico_2_Ivette_Fern%C3%A0ndez.ipynb\" target=\"_parent\"><img src=\"https://colab.research.google.com/assets/colab-badge.svg\" alt=\"Open In Colab\"/></a>"
      ]
    },
    {
      "cell_type": "markdown",
      "source": [
        "1. Escribe un programa que muestre en pantalla el resultado de $\\left(\\frac{4*2}{2+3}\\right)^2$\n",
        "\n",
        "\n",
        "\n"
      ],
      "metadata": {
        "id": "ciQFwwkJnyk9"
      }
    },
    {
      "cell_type": "code",
      "source": [
        "print(\"1. Resultado función\")\n",
        "print(\"1.1. Opción 1: Resultado función por partes\")\n",
        "print(f\"1.1.1. Resultado 4*2 : {4 * 2}\")\n",
        "print(f\"1.1.2. Resultado 2+3 : {2 + 3}\")\n",
        "print(f\"1.1.3. Resultado 8/5 : {8 / 5}\")\n",
        "print(f\"1.1.4. Resultado final : {1.6 ** 2:.2f}\")\n",
        "print(f\"1.2. Opción 2: Resultado directo: {(4 * 2 / (2 + 3))**2:.2f}\")"
      ],
      "metadata": {
        "colab": {
          "base_uri": "https://localhost:8080/"
        },
        "id": "YmYkRgnoERDL",
        "outputId": "3126f20d-56be-494f-963f-786bfed9ca4d"
      },
      "execution_count": 1,
      "outputs": [
        {
          "output_type": "stream",
          "name": "stdout",
          "text": [
            "1. Resultado función\n",
            "1.1. Opción 1: Resultado función por partes\n",
            "1.1.1. Resultado 4*2 : 8\n",
            "1.1.2. Resultado 2+3 : 5\n",
            "1.1.3. Resultado 8/5 : 1.6\n",
            "1.1.4. Resultado final : 2.56\n",
            "1.2. Opción 2: Resultado directo: 2.56\n"
          ]
        }
      ]
    },
    {
      "cell_type": "markdown",
      "source": [
        "2. Escribe una función que, dado el peso (en kg) y la altura (en metros), calcule y devuelva el Índice de Masa Corporal"
      ],
      "metadata": {
        "id": "H-jbxmfenhmf"
      }
    },
    {
      "cell_type": "code",
      "source": [
        "print(\"2. Función IMC\")\n",
        "Peso_kg =\n",
        "Altura_m =\n",
        "print(f\"{Peso_kg / (Altura_m ** 2)}\")\n"
      ],
      "metadata": {
        "id": "gKeRE3R_HXOp"
      },
      "execution_count": null,
      "outputs": []
    },
    {
      "cell_type": "markdown",
      "source": [
        "3. Escribe ahora la misma función, pero que en vez de recibir el peso y la altura como argumentos, los pida como input al usuario. Ten en cuenta que el input recibido será de tipo string, por lo que habrá que convertirlo a `int` o `float` antes de tratarlos."
      ],
      "metadata": {
        "id": "-E9bwBUXrkjl"
      }
    },
    {
      "cell_type": "code",
      "source": [
        "print(\"3. Función y calculo IMC\")\n",
        "Peso_kg = float(input(\"Introduce el peso en quilos (usa punto para poner decimales): \"))\n",
        "Altura_m = float(input(\"Introduce la altura en metros (usa punto para poner decimales): \"))\n",
        "print(f\"{Peso_kg / (Altura_m ** 2):.2f}\")"
      ],
      "metadata": {
        "colab": {
          "base_uri": "https://localhost:8080/"
        },
        "id": "GPPUiBgtIYwl",
        "outputId": "7b11ca28-8b0b-4fd9-9192-e001548c74cb"
      },
      "execution_count": null,
      "outputs": [
        {
          "output_type": "stream",
          "name": "stdout",
          "text": [
            "3. Función y calculo IMC\n",
            "Introduce el peso en quilos (usa punto para poner decimales): 70.33\n",
            "Introduce la altura en metros (usa punto para poner decimales): 1.63\n",
            "26.47\n"
          ]
        }
      ]
    },
    {
      "cell_type": "markdown",
      "source": [
        "4. Modifica la función anterior, para que en vez de devolver el IMC, lo imprima en pantalla junto con el mensaje \"Tu IMC es ____ \""
      ],
      "metadata": {
        "id": "yWJESkS9tUM3"
      }
    },
    {
      "cell_type": "code",
      "source": [
        "print(\"4. Función y calculo IMC con texto\")\n",
        "Peso_kg = float(input(\"Introduce el peso en quilos (usa punto para poner decimales): \"))\n",
        "Altura_m = float(input(\"Introduce la altura en metros (usa punto para poner decimales): \"))\n",
        "print(f\"Tu IMC es {Peso_kg / (Altura_m ** 2):.2f}\")"
      ],
      "metadata": {
        "colab": {
          "base_uri": "https://localhost:8080/"
        },
        "id": "savCyHQQKsp4",
        "outputId": "b3ccb2db-067d-459b-e8e9-25b1f1e99e79"
      },
      "execution_count": null,
      "outputs": [
        {
          "output_type": "stream",
          "name": "stdout",
          "text": [
            "4. Función y calculo IMC con texto\n",
            "Introduce el peso en quilos (usa punto para poner decimales): 60.2\n",
            "Introduce la altura en metros (usa punto para poner decimales): 1.63\n",
            "Tu IMC es 22.66\n"
          ]
        }
      ]
    },
    {
      "cell_type": "markdown",
      "source": [
        "5. Escribe una función que tome como argumento una palabra, e imprima en pantalla el número de letras que tiene."
      ],
      "metadata": {
        "id": "gpMMHwPguq-N"
      }
    },
    {
      "cell_type": "code",
      "source": [
        "print(\"5. Función para identificar el número de letras que contiene una palabra\")\n",
        "palabra = input(\"Introduce una palabra: \")\n",
        "print(f\"Tu palabra contiene {len(palabra)} letras\")"
      ],
      "metadata": {
        "colab": {
          "base_uri": "https://localhost:8080/"
        },
        "id": "hAQXUlbCLhEU",
        "outputId": "4e7bcca1-29e2-4db2-b864-891d367bb0d6"
      },
      "execution_count": null,
      "outputs": [
        {
          "output_type": "stream",
          "name": "stdout",
          "text": [
            "5. Función para identificar el número de letras que contiene una palabra\n",
            "Introduce una palabra: Supercalifragilisticoespialidoso\n",
            "Tu palabra contiene 32 letras\n"
          ]
        }
      ]
    },
    {
      "cell_type": "markdown",
      "source": [
        "6. Escribe una función que dada una palabra y una letra, imprima lo siguiente:\n",
        "\n",
        "\n",
        "*   Si la palabra contiene la letra: \"La palabra '_____' contiene la letra __ \"\n",
        "*   Si no la contiene: \"La palabra '_____'  no contiene la letra __ \"\n",
        "\n"
      ],
      "metadata": {
        "id": "jAPFMaqtvVst"
      }
    },
    {
      "cell_type": "code",
      "source": [
        "print(\"6. Función para identificar si una palabra contiene una letra\")\n",
        "palabra = input(\"Introduce una palabra: \")\n",
        "letra = input(\"Introduce una letra: \")\n",
        "\n",
        "if letra in palabra:\n",
        "    print(f\"La palabra '{palabra}' contiene la letra '{letra}'.\")\n",
        "else:\n",
        "    print(f\"La palabra '{palabra}' no contiene la letra '{letra}'.\")"
      ],
      "metadata": {
        "colab": {
          "base_uri": "https://localhost:8080/"
        },
        "id": "8yNeRYk1L-Zn",
        "outputId": "26bf382b-2b91-46bb-81f5-8e36a9d519c0"
      },
      "execution_count": null,
      "outputs": [
        {
          "output_type": "stream",
          "name": "stdout",
          "text": [
            "6. Función para identificar si una palabra contiene una letra\n",
            "Introduce una palabra: Supercalifragilisticoespialidoso\n",
            "Introduce una letra: A\n",
            "La palabra 'Supercalifragilisticoespialidoso' no contiene la letra 'A'.\n"
          ]
        }
      ]
    },
    {
      "cell_type": "markdown",
      "source": [
        "7. En Python (y en muchos otros lenguajes de programacion) hay letras minúsculas y mayúsculas son elementos diferentes"
      ],
      "metadata": {
        "id": "qN9ONQ6HxHeP"
      }
    },
    {
      "cell_type": "code",
      "source": [
        "'a' == 'A'"
      ],
      "metadata": {
        "colab": {
          "base_uri": "https://localhost:8080/"
        },
        "id": "iuHY_EKHw8qb",
        "outputId": "3ebfe0c5-5599-45f5-9475-0df59b97aaed"
      },
      "execution_count": null,
      "outputs": [
        {
          "output_type": "execute_result",
          "data": {
            "text/plain": [
              "False"
            ]
          },
          "metadata": {},
          "execution_count": 13
        }
      ]
    },
    {
      "cell_type": "code",
      "source": [
        "'p' in 'Pedro'"
      ],
      "metadata": {
        "colab": {
          "base_uri": "https://localhost:8080/"
        },
        "id": "Nr5X6v3ew6ts",
        "outputId": "cd5a08eb-8ce0-4d3f-caa4-91e4979ac6b3"
      },
      "execution_count": null,
      "outputs": [
        {
          "output_type": "execute_result",
          "data": {
            "text/plain": [
              "False"
            ]
          },
          "metadata": {},
          "execution_count": 14
        }
      ]
    },
    {
      "cell_type": "markdown",
      "source": [
        "Adapta la función (en el caso de que no esté ya adaptada) para que identifique si contiene la letra independientemente de si es mayúscula o minúscula"
      ],
      "metadata": {
        "id": "XjE6G_OSxhTW"
      }
    },
    {
      "cell_type": "code",
      "source": [
        "print(\"7. Función para identificar si la letra es mayúscula o minúscula\")\n",
        "palabra = input(\"Introduce una palabra: \")\n",
        "letra = input(\"Introduce una letra: \")\n",
        "\n",
        "if letra in palabra:\n",
        "    print(f\"La palabra '{palabra.lower()}' contiene la letra '{letra.lower()}'.\")\n",
        "else:\n",
        "    print(f\"La palabra '{palabra.lower()}' no contiene la letra '{letra.lower()}'.\")"
      ],
      "metadata": {
        "colab": {
          "base_uri": "https://localhost:8080/"
        },
        "id": "0tRRdQfyMqvP",
        "outputId": "5823000c-cc3e-49a4-dacb-6155cfbe5477"
      },
      "execution_count": null,
      "outputs": [
        {
          "output_type": "stream",
          "name": "stdout",
          "text": [
            "7. Función para identificar si la letra es mayúscula o minúscula\n",
            "Introduce una palabra: Supercalifragilisticoespialidoso\n",
            "Introduce una letra: A\n",
            "La palabra 'supercalifragilisticoespialidoso' no contiene la letra 'a'.\n"
          ]
        }
      ]
    },
    {
      "cell_type": "markdown",
      "source": [
        "8. Escribe una función que dada una palabra y un número, imprima la palabra en pantalla ese numero de veces"
      ],
      "metadata": {
        "id": "ZNjTnxFMx-rl"
      }
    },
    {
      "cell_type": "code",
      "source": [
        "print(\"8. Función para repetición de palabra un número de veces\")\n",
        "palabra = input(\"Introduce una palabra: \")\n",
        "número = int(input(\"Introduce un número: \"))\n",
        "print(f\"{palabra * número}\")"
      ],
      "metadata": {
        "colab": {
          "base_uri": "https://localhost:8080/"
        },
        "id": "8nDO1FVBOIJj",
        "outputId": "bbac4b5c-87a9-4f0b-9fc8-90efeb092115"
      },
      "execution_count": null,
      "outputs": [
        {
          "output_type": "stream",
          "name": "stdout",
          "text": [
            "8. Función para repetición de palabra un número de veces\n",
            "Introduce una palabra: Casa\n",
            "Introduce un número: 10\n",
            "CasaCasaCasaCasaCasaCasaCasaCasaCasaCasa\n"
          ]
        }
      ]
    },
    {
      "cell_type": "markdown",
      "source": [
        "9. Escribe un programa que imprima en pantalla los 20 primeros números naturales usando un loop"
      ],
      "metadata": {
        "id": "j-AVf0_RyjsE"
      }
    },
    {
      "cell_type": "code",
      "source": [
        "print(\"9. Programa para imprimir los 20 primeros números naturales usando loop\")\n",
        "for i in range(1, 21):\n",
        "    print(i)\n"
      ],
      "metadata": {
        "colab": {
          "base_uri": "https://localhost:8080/"
        },
        "id": "e_X0V3kyPMdS",
        "outputId": "35272953-88e6-44fb-9fe7-ca074dae5318"
      },
      "execution_count": null,
      "outputs": [
        {
          "output_type": "stream",
          "name": "stdout",
          "text": [
            "9. Programa para imprimir los 20 primeros números naturales usando loop\n",
            "1\n",
            "2\n",
            "3\n",
            "4\n",
            "5\n",
            "6\n",
            "7\n",
            "8\n",
            "9\n",
            "10\n",
            "11\n",
            "12\n",
            "13\n",
            "14\n",
            "15\n",
            "16\n",
            "17\n",
            "18\n",
            "19\n",
            "20\n"
          ]
        }
      ]
    },
    {
      "cell_type": "markdown",
      "source": [
        "10. Escribe una función que, dada una palabra y una letra, devuelva el numero de veces que aparece la letra en la palabra"
      ],
      "metadata": {
        "id": "eEooktLl0Zib"
      }
    },
    {
      "cell_type": "code",
      "source": [
        "print(\"10. Función para identificar número de veces que se repite una letra en una palabra\")\n",
        "palabra = input(\"Introduce una palabra: \")\n",
        "letra = input(\"Introduce una letra: \")\n",
        "print(f\"La palabra '{palabra.lower()}' contiene '{palabra.lower().count(letra.lower())}' veces la letra '{letra.lower()}'.\")"
      ],
      "metadata": {
        "colab": {
          "base_uri": "https://localhost:8080/"
        },
        "id": "4fJCUIo2TmRt",
        "outputId": "cea0475e-728f-45b7-b883-6188d94b7e2f"
      },
      "execution_count": null,
      "outputs": [
        {
          "output_type": "stream",
          "name": "stdout",
          "text": [
            "10. Función para identificar número de veces que se repite una letra en una palabra\n",
            "Introduce una palabra: Supercalifragilisticoespialidoso\n",
            "Introduce una letra: O\n",
            "La palabra 'supercalifragilisticoespialidoso' contiene '3' veces la letra 'o'.\n"
          ]
        }
      ]
    }
  ]
}