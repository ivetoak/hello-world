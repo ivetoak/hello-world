{
  "nbformat": 4,
  "nbformat_minor": 0,
  "metadata": {
    "colab": {
      "provenance": [],
      "toc_visible": true,
      "include_colab_link": true
    },
    "kernelspec": {
      "name": "python3",
      "display_name": "Python 3"
    },
    "language_info": {
      "name": "python"
    }
  },
  "cells": [
    {
      "cell_type": "markdown",
      "metadata": {
        "id": "view-in-github",
        "colab_type": "text"
      },
      "source": [
        "<a href=\"https://colab.research.google.com/github/ivetoak/hello-world/blob/main/2_Ejercicio_pr%C3%A1ctico_1_Ivette_Fern%C3%A0ndez.ipynb\" target=\"_parent\"><img src=\"https://colab.research.google.com/assets/colab-badge.svg\" alt=\"Open In Colab\"/></a>"
      ]
    },
    {
      "cell_type": "markdown",
      "source": [
        "1. Crea 2 variables, `a` y `b`, y asignales los valores 5 y 7 respectivamente\n"
      ],
      "metadata": {
        "id": "g9eqyBtJm1Fu"
      }
    },
    {
      "cell_type": "code",
      "source": [
        "a = 5\n",
        "b = 7\n",
        "print(\"1. Variable a:\", a,\"y Variable b:\", b )\n"
      ],
      "metadata": {
        "colab": {
          "base_uri": "https://localhost:8080/"
        },
        "id": "A0bf0KqnBTD4",
        "outputId": "5da7db92-f743-47e6-ce9c-037b38fa495b"
      },
      "execution_count": 128,
      "outputs": [
        {
          "output_type": "stream",
          "name": "stdout",
          "text": [
            "1. Variable a: 5 y Variable b: 7\n"
          ]
        }
      ]
    },
    {
      "cell_type": "markdown",
      "source": [
        "2. Guarda la suma de `a` y `b` en la variable `c`"
      ],
      "metadata": {
        "id": "BW8HWMt1vmt-"
      }
    },
    {
      "cell_type": "code",
      "source": [
        "c = a + b\n",
        "print(\"2. Variable c (suma de a+b):\", c)\n",
        "print(type(c))"
      ],
      "metadata": {
        "colab": {
          "base_uri": "https://localhost:8080/"
        },
        "id": "kZA0fOiCBlcc",
        "outputId": "2fe47ac5-24bf-496a-ace1-f334f548b8be"
      },
      "execution_count": 36,
      "outputs": [
        {
          "output_type": "stream",
          "name": "stdout",
          "text": [
            "2. Variable c (suma de a+b): 12\n",
            "<class 'int'>\n"
          ]
        }
      ]
    },
    {
      "cell_type": "markdown",
      "source": [
        "3. Actualiza el valor de variable `c` sumandole 2 a sí misma"
      ],
      "metadata": {
        "id": "6_gmouJmzbpG"
      }
    },
    {
      "cell_type": "code",
      "source": [
        "c = a + b + 2\n",
        "print(\"3. Variable nueva c (suma de a+b+2):\", c)\n",
        "print(type(c))"
      ],
      "metadata": {
        "colab": {
          "base_uri": "https://localhost:8080/"
        },
        "id": "3FHOOavPCUO0",
        "outputId": "38941ec5-12b1-47ad-946b-43d4c642fed7"
      },
      "execution_count": 37,
      "outputs": [
        {
          "output_type": "stream",
          "name": "stdout",
          "text": [
            "3. Variable nueva c (suma de a+b+2): 14\n",
            "<class 'int'>\n"
          ]
        }
      ]
    },
    {
      "cell_type": "markdown",
      "source": [
        "4. Imprime en pantalla el valor de c"
      ],
      "metadata": {
        "id": "1rOBpTRbzouF"
      }
    },
    {
      "cell_type": "code",
      "source": [
        "print(\"4. Variable nueva c (suma de a+b+2):\", c)\n",
        "print(type(c))"
      ],
      "metadata": {
        "colab": {
          "base_uri": "https://localhost:8080/"
        },
        "id": "Z1HaghfmCuTc",
        "outputId": "48655ce4-153e-404d-ee3e-5e041c367b8b"
      },
      "execution_count": 38,
      "outputs": [
        {
          "output_type": "stream",
          "name": "stdout",
          "text": [
            "4. Variable nueva c (suma de a+b+2): 14\n",
            "<class 'int'>\n"
          ]
        }
      ]
    },
    {
      "cell_type": "markdown",
      "source": [
        "5. Imprime en pantalla la siguiente frase:\n",
        "\n",
        "\"El valor de c es _\"\n",
        "\n",
        "Adaptarlo para que muestre el valor de la variable."
      ],
      "metadata": {
        "id": "VAM9UoDB0Dae"
      }
    },
    {
      "cell_type": "code",
      "source": [
        "print(\"5. El valor de c es\", c)\n",
        "print(type(c))"
      ],
      "metadata": {
        "colab": {
          "base_uri": "https://localhost:8080/"
        },
        "id": "GO5v0D1WC0iE",
        "outputId": "4ad5e506-9eee-4b9e-f12c-765f9845bfe7"
      },
      "execution_count": 39,
      "outputs": [
        {
          "output_type": "stream",
          "name": "stdout",
          "text": [
            "5. El valor de c es 14\n",
            "<class 'int'>\n"
          ]
        }
      ]
    },
    {
      "cell_type": "markdown",
      "source": [
        "7. Como podemos saber cuál es el tipo de datos de c?"
      ],
      "metadata": {
        "id": "ewJvonq83zV_"
      }
    },
    {
      "cell_type": "code",
      "source": [
        "print(\"6. El valor de c es\", type(c))"
      ],
      "metadata": {
        "colab": {
          "base_uri": "https://localhost:8080/"
        },
        "id": "WRyuu3t1C8Rf",
        "outputId": "8a792b0d-13c2-4fca-ecc5-85edf13a7cc9"
      },
      "execution_count": 40,
      "outputs": [
        {
          "output_type": "stream",
          "name": "stdout",
          "text": [
            "6. El valor de c es <class 'int'>\n"
          ]
        }
      ]
    },
    {
      "cell_type": "markdown",
      "source": [
        "8. Multiplica `c` por 1.0. Gurada el resultado en `d`"
      ],
      "metadata": {
        "id": "4XuqWLSU4839"
      }
    },
    {
      "cell_type": "code",
      "source": [
        "d = c * 1.0\n",
        "print(\"7. Variable d (multiplica c*1.0):\", d)"
      ],
      "metadata": {
        "colab": {
          "base_uri": "https://localhost:8080/"
        },
        "id": "gstsW1_6DHJr",
        "outputId": "87c6fdf1-ca3d-453b-c20b-592accce3875"
      },
      "execution_count": 41,
      "outputs": [
        {
          "output_type": "stream",
          "name": "stdout",
          "text": [
            "7. Variable d (multiplica c*1.0): 14.0\n"
          ]
        }
      ]
    },
    {
      "cell_type": "markdown",
      "source": [
        "9. Qué clase o tipo de dato almacena la variable `d`?"
      ],
      "metadata": {
        "id": "lc65lFOeU6_f"
      }
    },
    {
      "cell_type": "code",
      "source": [
        "print(\"9. El valor de d es\", type(d))"
      ],
      "metadata": {
        "colab": {
          "base_uri": "https://localhost:8080/"
        },
        "id": "yaR-76u9Dchj",
        "outputId": "0d23eb57-92f1-43a6-d8cf-296ca4bb4059"
      },
      "execution_count": 42,
      "outputs": [
        {
          "output_type": "stream",
          "name": "stdout",
          "text": [
            "9. El valor de d es <class 'float'>\n"
          ]
        }
      ]
    },
    {
      "cell_type": "markdown",
      "source": [
        "10. A la luz del tipo de datos vistos en `c` y `d`, podemos decir que ambas variables son iguales? Escribe una expresión booleana que los iguale"
      ],
      "metadata": {
        "id": "yBjFrkdyVREY"
      }
    },
    {
      "cell_type": "code",
      "source": [
        "relación_tipo = type(c) == type(d)\n",
        "relación_valor = (c==d)\n",
        "\n",
        "if relación_tipo == True and relación_valor == True:\n",
        "   print(\"10. Las variables y valores son iguales\")\n",
        "elif relación_tipo == True and relación_valor == False:\n",
        "   print(\"10. Las variables son iguales pero los valores son diferentes\")\n",
        "elif relación_tipo == False and relación_valor == True:\n",
        "   print(\"10. Las variables son diferentes pero los valores son iguales\")\n",
        "else:\n",
        "   print(\"10. Las variables y los valores son diferentes\")"
      ],
      "metadata": {
        "colab": {
          "base_uri": "https://localhost:8080/"
        },
        "id": "IFmXhLoLvioI",
        "outputId": "92b51b7c-40fc-41c3-ceac-2ec80427d086"
      },
      "execution_count": 126,
      "outputs": [
        {
          "output_type": "stream",
          "name": "stdout",
          "text": [
            "10. Las variables son diferentes pero los valores son iguales\n"
          ]
        }
      ]
    },
    {
      "cell_type": "markdown",
      "source": [
        "11. Guarda en una lista las variables `a`, `b`, `c` y `d`. Llama a la variable que la almacena *lista*"
      ],
      "metadata": {
        "id": "jifYF08OVqMI"
      }
    },
    {
      "cell_type": "code",
      "source": [
        "lista = [a, b, c, d]\n",
        "print(\"11. Valores lista\", lista)"
      ],
      "metadata": {
        "colab": {
          "base_uri": "https://localhost:8080/"
        },
        "id": "a0GG1v2BxX6P",
        "outputId": "c70844e6-63b1-44a1-8b88-36f6e868ecce"
      },
      "execution_count": 136,
      "outputs": [
        {
          "output_type": "stream",
          "name": "stdout",
          "text": [
            "11. Valores lista [5, 7, 14, 14.0]\n"
          ]
        }
      ]
    },
    {
      "cell_type": "markdown",
      "source": [
        "12. Guarda en una tupla las variables `a`, `b`, `c` y `d`. Llama a la variable que la almacena *tupla*"
      ],
      "metadata": {
        "id": "O6mGrUHuWiHn"
      }
    },
    {
      "cell_type": "code",
      "source": [
        "tupla = (a, b, c, d)\n",
        "print(\"12. Valores Tupla\", tupla)"
      ],
      "metadata": {
        "colab": {
          "base_uri": "https://localhost:8080/"
        },
        "id": "RkTH2_mixu9m",
        "outputId": "0c77eae1-0d26-4684-b750-2f49b4531daa"
      },
      "execution_count": 137,
      "outputs": [
        {
          "output_type": "stream",
          "name": "stdout",
          "text": [
            "12. Valores Tupla (5, 7, 14, 14.0)\n"
          ]
        }
      ]
    },
    {
      "cell_type": "markdown",
      "source": [
        "13. Guarda en un diccionario las variables `a`, `b`, `c` y `d`. Las claves o *keys* serán 'a', 'b', 'c' y 'd' y los valores las propias variables.  Llama a la variable que lo almacena *diccionario*"
      ],
      "metadata": {
        "id": "Jj2GFotrWW8N"
      }
    },
    {
      "cell_type": "code",
      "source": [
        "diccionario = {}\n",
        "diccionario = {\"a\": a, \"b\": b, \"c\": c, \"d\": d}\n",
        "print(\"13. Variables y claves diccionario\",diccionario)"
      ],
      "metadata": {
        "colab": {
          "base_uri": "https://localhost:8080/"
        },
        "id": "loafc-3UzkO6",
        "outputId": "e03573d5-701c-495b-8656-a6927033a073"
      },
      "execution_count": 59,
      "outputs": [
        {
          "output_type": "stream",
          "name": "stdout",
          "text": [
            "13. Variables y claves diccionario {'a': 5, 'b': 7, 'c': 14, 'd': 14.0}\n"
          ]
        }
      ]
    },
    {
      "cell_type": "markdown",
      "source": [
        "14. Muestra el primer elemento de *lista*"
      ],
      "metadata": {
        "id": "tnBsjW-mbUM_"
      }
    },
    {
      "cell_type": "code",
      "source": [
        "print(f\"14. El primer elemento de la lista es: {lista[0]}\")\n"
      ],
      "metadata": {
        "colab": {
          "base_uri": "https://localhost:8080/"
        },
        "id": "SiMOMxw00qb6",
        "outputId": "f8edeb35-fe06-41e8-8608-3e3d30eff8af"
      },
      "execution_count": 65,
      "outputs": [
        {
          "output_type": "stream",
          "name": "stdout",
          "text": [
            "14. El primer elemento de la lista es: 5\n"
          ]
        }
      ]
    },
    {
      "cell_type": "markdown",
      "source": [
        "15. Muestra el último elemento de *tupla*"
      ],
      "metadata": {
        "id": "0x-36zvlbjOI"
      }
    },
    {
      "cell_type": "code",
      "source": [
        "último_elemento = tupla[-1]\n",
        "print(\"15. El último elemento de la tupla es:\", último_elemento)"
      ],
      "metadata": {
        "colab": {
          "base_uri": "https://localhost:8080/"
        },
        "id": "9tbRq4Ii1TYF",
        "outputId": "a054a054-e8b6-46bc-c859-9bed2958b10b"
      },
      "execution_count": 138,
      "outputs": [
        {
          "output_type": "stream",
          "name": "stdout",
          "text": [
            "15. El último elemento de la tupla es: 14.0\n"
          ]
        }
      ]
    },
    {
      "cell_type": "markdown",
      "source": [
        "16. Convierte *tupla* en una lista. Guarda el resultado en *lista_2*"
      ],
      "metadata": {
        "id": "vfRnvkznc5_P"
      }
    },
    {
      "cell_type": "code",
      "source": [
        "lista_2 = [tupla]\n",
        "print(\"16. Confirmación conversión de tupla a lista\",\"\\n\", type(lista_2), lista_2)\n"
      ],
      "metadata": {
        "colab": {
          "base_uri": "https://localhost:8080/"
        },
        "id": "FhoBBL4U1w6T",
        "outputId": "158a3f07-8a18-454d-cdc5-d2266635ef18"
      },
      "execution_count": 140,
      "outputs": [
        {
          "output_type": "stream",
          "name": "stdout",
          "text": [
            "16. Confirmación conversión de tupla a lista \n",
            " <class 'list'> [(5, 7, 14, 14.0)]\n"
          ]
        }
      ]
    },
    {
      "cell_type": "markdown",
      "source": [
        "17. Añade un nuevo elemento a *lista_2*, el número 8 por ejemplo"
      ],
      "metadata": {
        "id": "17F1ACqveVdI"
      }
    },
    {
      "cell_type": "code",
      "source": [
        "lista_2 = [tupla, 8]\n",
        "print(\"17. Añadir 8 a la lista 2\",\"\\n\", type(lista_2), lista_2)"
      ],
      "metadata": {
        "colab": {
          "base_uri": "https://localhost:8080/"
        },
        "id": "By5FqUX54Fiu",
        "outputId": "8ce2093f-d521-408a-ad4b-4743c1da0321"
      },
      "execution_count": 142,
      "outputs": [
        {
          "output_type": "stream",
          "name": "stdout",
          "text": [
            "17. Añadir 8 a la lista 2 \n",
            " <class 'list'> [(5, 7, 14, 14.0), 8]\n"
          ]
        }
      ]
    },
    {
      "cell_type": "markdown",
      "source": [
        "18. Muestra la longitud o número de elementos de *lista_2*"
      ],
      "metadata": {
        "id": "IWBvVtfAeqJo"
      }
    },
    {
      "cell_type": "code",
      "source": [
        "print(\"18. Longitud lista_2 :\",len(lista_2))"
      ],
      "metadata": {
        "colab": {
          "base_uri": "https://localhost:8080/"
        },
        "id": "WkRp0F8N4UjD",
        "outputId": "f6deef83-ced6-4950-b435-7d9ef3a2728c"
      },
      "execution_count": 86,
      "outputs": [
        {
          "output_type": "stream",
          "name": "stdout",
          "text": [
            "18. Longitud lista_2 : 2\n"
          ]
        }
      ]
    },
    {
      "cell_type": "markdown",
      "source": [
        "19. Muestra las claves o *keys* de *diccionario*"
      ],
      "metadata": {
        "id": "UuDoe-e-fEk_"
      }
    },
    {
      "cell_type": "code",
      "source": [
        "claves = diccionario.keys()\n",
        "print(\"19. Claves del diccionario:\", claves)\n"
      ],
      "metadata": {
        "colab": {
          "base_uri": "https://localhost:8080/"
        },
        "id": "DXbHkc2S4vNs",
        "outputId": "8aaf44f2-ccfa-4b5c-b7bc-7136cbf33a75"
      },
      "execution_count": 127,
      "outputs": [
        {
          "output_type": "stream",
          "name": "stdout",
          "text": [
            "19. Claves del diccionario: dict_keys(['a', 'b', 'c', 'd'])\n"
          ]
        }
      ]
    },
    {
      "cell_type": "markdown",
      "source": [
        "20. Muestra los valores o `values` de *diccionario*"
      ],
      "metadata": {
        "id": "xkePAwYjfS2Q"
      }
    },
    {
      "cell_type": "code",
      "source": [
        "valores = diccionario.values()\n",
        "print(\"20. Valores del diccionario:\", valores)"
      ],
      "metadata": {
        "colab": {
          "base_uri": "https://localhost:8080/"
        },
        "id": "NDUGWg8t5I_L",
        "outputId": "0e8ef1cd-6bb3-4218-f9ab-bd880e1c9e54"
      },
      "execution_count": 103,
      "outputs": [
        {
          "output_type": "stream",
          "name": "stdout",
          "text": [
            "20. Valores del diccionario: dict_values([5, 7, 14, 14.0])\n"
          ]
        }
      ]
    }
  ]
}