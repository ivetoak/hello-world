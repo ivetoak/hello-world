{
  "cells": [
    {
      "cell_type": "markdown",
      "metadata": {
        "id": "view-in-github",
        "colab_type": "text"
      },
      "source": [
        "<a href=\"https://colab.research.google.com/github/ivetoak/hello-world/blob/main/1_Enunciado_Ejercicio_Python_Ivette_Fern%C3%A0ndez.ipynb\" target=\"_parent\"><img src=\"https://colab.research.google.com/assets/colab-badge.svg\" alt=\"Open In Colab\"/></a>"
      ]
    },
    {
      "cell_type": "markdown",
      "metadata": {
        "id": "1CopsgZnhDL2"
      },
      "source": [
        "# Python &#x1F60E; 🐍;\n",
        "\n",
        "Reglas indispensables a seguir en Python:\n",
        "\n",
        "\n",
        "1.   Respetar indentaciones\n",
        "2.   *Case Sensitive*\n",
        "3.   Definir elementos previos a su invocación (*sentido en el que corre el código*)\n",
        "4.   Tener en cuenta al sobreescribir elementos ya definidos\n"
      ]
    },
    {
      "cell_type": "markdown",
      "metadata": {
        "id": "A11ePKqCDM2E"
      },
      "source": [
        "Detalles a tener en cuenta:\n",
        "\n",
        "**1. Tipo de datos:**\n",
        "- No hay que declarar el tipo de dato ⟶ python lo deduce automáticamente al asignar un valor a la variable ⇒ esto es lo que se conoce como **tipado dinámico**\n",
        "\n",
        "**2. Asignación de memoria:**\n",
        "- Python asigna un espacio de memoria suficiente para almacenar el valor de la variable y su tipo de forma automática\n"
      ]
    },
    {
      "cell_type": "markdown",
      "metadata": {
        "id": "blF0MKxUYxW6"
      },
      "source": [
        "## Ejercicio print\n",
        "\n",
        "Declara las siguientes variables:\n",
        "\n",
        "* **nombre:** tu nombre\n",
        "* **edad:** tu edad\n",
        "* **ciudad:** la ciudad donde vives\n",
        "* **hobby:**tu pasatiempo favorito\n",
        "\n",
        "Usa una f-string para imprimir una oración que incluya toda esta información:\n",
        "\n",
        "> Me llamo *Silvia*, tengo *26* años y vivo en *Leganés*. Me encanta *viajar*.\n",
        "\n"
      ]
    },
    {
      "cell_type": "code",
      "execution_count": null,
      "metadata": {
        "colab": {
          "base_uri": "https://localhost:8080/"
        },
        "id": "4C7rM7evZUdo",
        "outputId": "c5dae80e-d12e-4618-fa93-612720d17d4e"
      },
      "outputs": [
        {
          "output_type": "stream",
          "name": "stdout",
          "text": [
            "Me llamo Ivette, tengo 35 años y vivo en Sabadell. Me gusta viajar.\n"
          ]
        }
      ],
      "source": [
        "# Usa una f-string para imprimir una oración que incluya la información\n",
        "# nombre, edad, ciudad, hobby\n",
        "\n",
        "# Declarar las variables\n",
        "\n",
        "\n",
        "# Usar una f-string para imprimir la información\n",
        "nombre = \"Ivette\"\n",
        "edad = 35\n",
        "ciudad = \"Sabadell\"\n",
        "hobby = \"viajar\"\n",
        "\n",
        "print(f\"Me llamo {nombre}, tengo {edad} años y vivo en {ciudad}. Me gusta {hobby}.\")"
      ]
    },
    {
      "cell_type": "markdown",
      "metadata": {
        "id": "M2EphSzVAkyb"
      },
      "source": [
        "## Ejercicio index"
      ]
    },
    {
      "cell_type": "markdown",
      "metadata": {
        "id": "RFl0rWA9TU3y"
      },
      "source": [
        "Escribir un programa que busque una subcadena específica en un texto dado y muestre el índice donde comienza la subcadena.\n",
        "\n",
        "Además, buscar la ocurrencia de una letra dentro de un rango de índices en el mismo texto.\n",
        "\n",
        "1. Crea una cadena de texto con el siguiente contenido:\n",
        "\n",
        "\n",
        "> \"Todos han jugado al paddel pero yo nunca lo he jugado\"\n",
        "\n",
        "2. Busca la palabra \"paddel\" y almacena el índice en \"indice_paddel\" y muestra su resultado\n",
        "\n",
        "3. Busca la letra 'a' dentro del rango [2,11]\n",
        "\n",
        "4. Busca la letra 'e' dentro del rango [2,11] y que NO lance error en caso de no encontrarla\n",
        "\n",
        "\n",
        "\n"
      ]
    },
    {
      "cell_type": "code",
      "execution_count": null,
      "metadata": {
        "id": "twqj68bNWa0b",
        "colab": {
          "base_uri": "https://localhost:8080/",
          "height": 263
        },
        "outputId": "1d8bc9de-10be-4e24-c0a4-b4f0bdcea777"
      },
      "outputs": [
        {
          "output_type": "stream",
          "name": "stdout",
          "text": [
            "Creado de cadena : Todos han jugado al paddel pero yo nunca lo he jugado\n",
            "Buscar la palabra 'paddel' en la cadena : 20\n",
            "Buscar letra 'a' entre los ínidces2-11 : 7\n"
          ]
        },
        {
          "output_type": "error",
          "ename": "ValueError",
          "evalue": "substring not found",
          "traceback": [
            "\u001b[0;31m---------------------------------------------------------------------------\u001b[0m",
            "\u001b[0;31mValueError\u001b[0m                                Traceback (most recent call last)",
            "\u001b[0;32m/tmp/ipython-input-3761719992.py\u001b[0m in \u001b[0;36m<cell line: 0>\u001b[0;34m()\u001b[0m\n\u001b[1;32m     17\u001b[0m \u001b[0;31m# Buscar la letra 'e' entre los índices 2 y 11 de la cadena 'txt'\u001b[0m\u001b[0;34m\u001b[0m\u001b[0;34m\u001b[0m\u001b[0m\n\u001b[1;32m     18\u001b[0m \u001b[0;31m# Si la letra 'e' no se encuentra en ese rango, la función index() lanzaría un error.\u001b[0m\u001b[0;34m\u001b[0m\u001b[0;34m\u001b[0m\u001b[0m\n\u001b[0;32m---> 19\u001b[0;31m \u001b[0me_index\u001b[0m \u001b[0;34m=\u001b[0m \u001b[0;34m(\u001b[0m\u001b[0mtxt\u001b[0m\u001b[0;34m.\u001b[0m\u001b[0mindex\u001b[0m\u001b[0;34m(\u001b[0m\u001b[0;34m\"e\"\u001b[0m\u001b[0;34m,\u001b[0m \u001b[0;36m2\u001b[0m\u001b[0;34m,\u001b[0m \u001b[0;36m11\u001b[0m\u001b[0;34m)\u001b[0m\u001b[0;34m)\u001b[0m\u001b[0;34m\u001b[0m\u001b[0;34m\u001b[0m\u001b[0m\n\u001b[0m\u001b[1;32m     20\u001b[0m \u001b[0;34m\u001b[0m\u001b[0m\n\u001b[1;32m     21\u001b[0m \u001b[0;34m\u001b[0m\u001b[0m\n",
            "\u001b[0;31mValueError\u001b[0m: substring not found"
          ]
        }
      ],
      "source": [
        "# Crea la cadena de texto\n",
        "txt = \"Todos han jugado al paddel pero yo nunca lo he jugado\"\n",
        "print(\"Creado de cadena :\",txt)\n",
        "\n",
        "# Busca la palabra \"paddel\" en la cadena 'txt' y\n",
        "# almacena el índice de inicio en 'indice_paddel'\n",
        "indice_paddel = (txt.find('paddel'))\n",
        "\n",
        "# Notese: los espacios cuentan como caracter y tienen asignado un indice\n",
        "# Imprime el índice donde comienza la subcadena \"paddel\"\n",
        "print(\"Buscar la palabra 'paddel' en la cadena :\",indice_paddel)\n",
        "\n",
        "# Buscar la letra 'a' entre los índices 2 y 11 de la cadena 'txt'\n",
        "a_index = (txt.index(\"a\", 2, 11))\n",
        "print(\"Buscar letra 'a' entre los ínidces2-11 :\",a_index)\n",
        "\n",
        "# Buscar la letra 'e' entre los índices 2 y 11 de la cadena 'txt'\n",
        "# Si la letra 'e' no se encuentra en ese rango, la función index() lanzaría un error.\n",
        "e_index = (txt.index(\"e\", 2, 11))\n",
        "\n",
        "# Si usamos index => lanza error\n",
        "# e_index = txt.index(\"e\", 2, 11)\n"
      ]
    },
    {
      "cell_type": "markdown",
      "metadata": {
        "id": "_4Qk88wEsMCt"
      },
      "source": [
        "## Ejercicio lista - slicing\n",
        "\n",
        "Crea la lista de famosos que contenga:\n",
        "\n",
        "\n",
        "> \"Tom Hanks\", \"Emma Watson\", \"Morgan Freeman\", \"Scarlett Johansson\", \"Will Smith\"\n",
        "\n",
        "\n",
        "1. Accede a los primeros cuatro elementos de la lista.\n",
        "2. Accede al segundo y tercer elemento de la lista.\n",
        "3. Accede al último elemento de la lista.\n",
        "4. Accede a los elementos desde el segundo hasta el penúltimo.\n",
        "5. Crea una copia de 'lista_famosos' recorriéndola de izquierda a derecha con un paso de 1.\n",
        "6. Obtén elementos de 'lista_famosos' con una zancada de 3, es decir, selecciona cada tercer elemento de la lista.\n",
        "7. Invierte 'lista_famosos', recorriéndola de derecha a izquierda con un paso de -1.\n"
      ]
    },
    {
      "cell_type": "code",
      "execution_count": null,
      "metadata": {
        "id": "hOB1X4nesMjE",
        "colab": {
          "base_uri": "https://localhost:8080/"
        },
        "outputId": "6a6826c7-108b-4ea2-8ed6-c76d3b43f753"
      },
      "outputs": [
        {
          "output_type": "stream",
          "name": "stdout",
          "text": [
            "1. Primeros 4 elementos : ['Tom Hanks', 'Emma Watson', 'Morgan Freeman', 'Scarlett Johansson']\n",
            "1. Primeros 4 elementos : ['Tom Hanks', 'Emma Watson', 'Morgan Freeman', 'Scarlett Johansson']\n",
            "2. 2º y 3º elemento : ['Emma Watson', 'Morgan Freeman']\n",
            "3. Último elemento : ['Will Smith']\n",
            "4. 2º hasta penúltimo elemento : ['Emma Watson', 'Morgan Freeman', 'Scarlett Johansson']\n",
            "5. 1 paso lista famosos  ['Tom Hanks', 'Emma Watson', 'Morgan Freeman', 'Scarlett Johansson', 'Will Smith']\n",
            "6. 2 pasos lista famosos  ['Tom Hanks', 'Morgan Freeman', 'Will Smith']\n",
            "7. Lista famosos invertida  ['Will Smith', 'Scarlett Johansson', 'Morgan Freeman', 'Emma Watson', 'Tom Hanks']\n"
          ]
        }
      ],
      "source": [
        "lista_famosos = [\"Tom Hanks\", \"Emma Watson\", \"Morgan Freeman\", \"Scarlett Johansson\", \"Will Smith\"]\n",
        "\n",
        "# 1. Accede a los primeros cuatro elementos de la lista.\n",
        "primeros_cuatro_elementos = lista_famosos[:4]\n",
        "print(\"1. Primeros 4 elementos :\", primeros_cuatro_elementos)\n",
        "print(\"1. Primeros 4 elementos :\", lista_famosos[:4])\n",
        "\n",
        "# 2. Accede al segundo y tercer elemento de la lista.\n",
        "segundo_y_tercer_elemento = lista_famosos[1:3]\n",
        "print(\"2. 2º y 3º elemento :\",segundo_y_tercer_elemento)\n",
        "\n",
        "# 3. Accede al último elemento de la lista.\n",
        "último_elemento = lista_famosos[-1:]\n",
        "print(\"3. Último elemento :\",último_elemento)\n",
        "\n",
        "# 4. Accede a los elementos desde el segundo hasta el penúltimo.\n",
        "segundo_hasta_penúltimo_elemento = lista_famosos[1:-1]\n",
        "print(\"4. 2º hasta penúltimo elemento :\",segundo_hasta_penúltimo_elemento)\n",
        "\n",
        "# 5. Crea una copia de 'lista_famosos' recorriéndola de izquierda a derecha con un paso de 1.\n",
        "un_paso_lista_famosos = lista_famosos[::1]\n",
        "print(\"5. 1 paso lista famosos \", un_paso_lista_famosos)\n",
        "\n",
        "# 6. Obtén elementos de 'lista_famosos' con una zancada de 3, es decir, selecciona cada tercer elemento de la lista.\n",
        "dos_pasos_lista_famosos = lista_famosos[::2]\n",
        "print(\"6. 2 pasos lista famosos \", dos_pasos_lista_famosos)\n",
        "\n",
        "# 7. Invierte 'lista_famosos', recorriéndola de derecha a izquierda con un paso de -1.\n",
        "lista_famosos_invertida = lista_famosos[::-1]\n",
        "print(\"7. Lista famosos invertida \", lista_famosos_invertida)\n"
      ]
    },
    {
      "cell_type": "markdown",
      "metadata": {
        "id": "TyL6g1HeU2FN"
      },
      "source": [
        "## Ejercicio manipulación listas: Harry Potter"
      ]
    },
    {
      "cell_type": "markdown",
      "metadata": {
        "id": "U_hNmYXxU-DV"
      },
      "source": [
        "Crea una lista con personajes del mundo de Harry Potter:\n",
        "\n",
        "\n",
        "> \"Harry\", \"Hermione\", \"Ron\", \"Dumbledore\", \"Snape\", \"Voldemort\"\n",
        "\n",
        "Realiza las siguientes operaciones sobre la lista utilizando los métodos de listas de Python:\n",
        "\n",
        "1. Añade el personaje \"Hagrid\" al final de la lista.\n",
        "2. Extiende la lista con los personajes [\"Luna\", \"Neville\"].\n",
        "3. Inserta el personaje \"Ginny\" en la tercera posición de la lista.\n",
        "4. Elimina el personaje \"Snape\" de la lista.\n",
        "5. Elimina y devuelve el primer elemento de la lista.\n",
        "6. Encuentra el índice del personaje \"Voldemort\" en la lista.\n",
        "7. Cuenta cuántas veces aparece el personaje \"Harry\" en la lista.\n",
        "8. Ordena la lista en orden alfabético.\n",
        "9. Invierte el orden de los elementos de la lista.\n",
        "10. Elimina todos los elementos de la lista original."
      ]
    },
    {
      "cell_type": "code",
      "execution_count": null,
      "metadata": {
        "id": "zNDS-oY1U47I",
        "colab": {
          "base_uri": "https://localhost:8080/"
        },
        "outputId": "1daad72a-f815-4259-9ce7-3b475914d397"
      },
      "outputs": [
        {
          "output_type": "stream",
          "name": "stdout",
          "text": [
            "0. Lista madre: ['Harry', 'Hermione', 'Ron', 'Dumbledore', 'Snape', 'Voldemort']\n",
            "1.0. Añadido Hagrid al final: ['Harry', 'Hermione', 'Ron', 'Dumbledore', 'Snape', 'Voldemort', 'Hagrid']\n",
            "1.1. Añadido Hagrid al final: None\n",
            "2. Añadido Luna y Neville al final: ['Harry', 'Hermione', 'Ron', 'Dumbledore', 'Snape', 'Voldemort', 'Hagrid', 'Hagrid', 'Luna', 'Neville']\n",
            "3. Añadido Ginny en 3ª posición: ['Harry', 'Hermione', 'Ginny', 'Ron', 'Dumbledore', 'Snape', 'Voldemort', 'Hagrid', 'Hagrid', 'Luna', 'Neville']\n",
            "4. Eliminado Snape: ['Harry', 'Hermione', 'Ginny', 'Ron', 'Dumbledore', 'Voldemort', 'Hagrid', 'Hagrid', 'Luna', 'Neville']\n",
            "5.1. Primer elemento eliminado: Harry\n",
            "5.2. Después de eliminación primer elemento: ['Hermione', 'Ginny', 'Ron', 'Dumbledore', 'Voldemort', 'Hagrid', 'Hagrid', 'Luna', 'Neville']\n",
            "6. Índice de 'Voldemort': 4\n",
            "7. Número de veces que aparece 'Harry': 0\n",
            "8. Lista ordenada alfabeticamente: ['Dumbledore', 'Ginny', 'Hagrid', 'Hagrid', 'Hermione', 'Luna', 'Neville', 'Ron', 'Voldemort']\n",
            "9. Lista ordenada alfabeticamente al revés: ['Voldemort', 'Ron', 'Neville', 'Luna', 'Hermione', 'Hagrid', 'Hagrid', 'Ginny', 'Dumbledore']\n",
            "10. Lista limpiada totalmente: []\n"
          ]
        }
      ],
      "source": [
        "# Lista de personajes de Harry Potter\n",
        "personajes_hp = [\"Harry\", \"Hermione\", \"Ron\", \"Dumbledore\", \"Snape\", \"Voldemort\"]\n",
        "print(\"0. Lista madre:\", personajes_hp)\n",
        "\n",
        "# 1. Añade \"Hagrid\" al final de la lista.\n",
        "# 1.0 Añade \"Hagrid\" al final de la lista sin dar nombre de variable.\n",
        "personajes_hp.append(\"Hagrid\")\n",
        "print(\"1.0. Añadido Hagrid al final:\", personajes_hp)\n",
        "# 1.1 Añade \"Hagrid\" al final de la lista dando nombre de variable. Da error,\n",
        "# porque solo puedes dar nombre de variable a métodos que den info no que modifiquen\n",
        "# la variable => none.\n",
        "add_hagrid = personajes_hp.append(\"Hagrid\")\n",
        "print(\"1.1. Añadido Hagrid al final:\", add_hagrid)\n",
        "\n",
        "# 2. Extiende la lista con los personajes [\"Luna\", \"Neville\"].\n",
        "personajes_hp.extend([\"Luna\", \"Neville\"])\n",
        "print(\"2. Añadido Luna y Neville al final:\", personajes_hp)\n",
        "\n",
        "# 3. Inserta \"Ginny\" en la tercera posición.\n",
        "personajes_hp.insert(2, \"Ginny\")\n",
        "print(\"3. Añadido Ginny en 3ª posición:\", personajes_hp)\n",
        "\n",
        "# 4. Elimina \"Snape\" de la lista.\n",
        "personajes_hp.remove(\"Snape\")\n",
        "print(\"4. Eliminado Snape:\", personajes_hp)\n",
        "\n",
        "# 5. Elimina y devuelve el primer elemento de la lista.\n",
        "eliminado_primer_elemento = personajes_hp.pop(0)\n",
        "print(\"5.1. Primer elemento eliminado:\", eliminado_primer_elemento)\n",
        "print(\"5.2. Después de eliminación primer elemento:\", personajes_hp)\n",
        "\n",
        "# 6. Encuentra el índice del personaje \"Voldemort\".\n",
        "indice_voldemort = personajes_hp.index(\"Voldemort\")\n",
        "print(\"6. Índice de 'Voldemort':\", indice_voldemort)\n",
        "\n",
        "# 7. Cuenta cuántas veces aparece \"Harry\" en la lista.\n",
        "contador_harry = personajes_hp.count(\"Harry\")\n",
        "print(\"7. Número de veces que aparece 'Harry':\", contador_harry)\n",
        "\n",
        "# 8. Ordena la lista en orden alfabético.\n",
        "personajes_hp.sort()\n",
        "print(\"8. Lista ordenada alfabeticamente:\", personajes_hp)\n",
        "\n",
        "# 9. Invierte el orden de los elementos de la lista.\n",
        "personajes_hp.sort(reverse=True)\n",
        "print(\"9. Lista ordenada alfabeticamente al revés:\", personajes_hp)\n",
        "\n",
        "# 10. Elimina todos los elementos de la lista original.\n",
        "personajes_hp.clear()\n",
        "print(\"10. Lista limpiada totalmente:\", personajes_hp)\n"
      ]
    },
    {
      "cell_type": "markdown",
      "metadata": {
        "id": "JFcy1I1jdtXo"
      },
      "source": [
        "## Ejercicio dict libros"
      ]
    },
    {
      "cell_type": "markdown",
      "metadata": {
        "id": "1Mh8xRBee9TZ"
      },
      "source": [
        "Imagina que eres el encargado de gestionar una biblioteca digital. Necesitas realizar varias operaciones para mantener y actualizar la colección de libros y sus autores utilizando diccionarios en Python.\n",
        "\n",
        "1. Crear un diccionario con títulos de libros y sus autores:\n",
        "\n",
        "\n",
        "> Cien Años de Soledad- Gabriel García Márquez\n",
        "\n",
        "> 1984 - George Orwell\n",
        "\n",
        "> Don Quijote de la Mancha - Miguel de Cervantes\n",
        "\n",
        "2. Añadir un nuevo libro: \"El Hobbit\" con autor \"J.R.R. Tolkien\"\n",
        "\n",
        "3. Actualizar el autor de un libro: El autor de \"1984\" a \"Orwell\"\n",
        "\n",
        "4. Eliminar un libro: \"Don Quijote de la Mancha\"\n",
        "\n",
        "5. Imprimir todos los libros y autores"
      ]
    },
    {
      "cell_type": "code",
      "execution_count": null,
      "metadata": {
        "id": "jJ4KWC9TgIxQ",
        "colab": {
          "base_uri": "https://localhost:8080/"
        },
        "outputId": "c88eebf8-339d-4466-8b04-9391e8a84afb"
      },
      "outputs": [
        {
          "output_type": "stream",
          "name": "stdout",
          "text": [
            "1. Creación diccionario:  {'Cien años de Soledad': 'Gabriel García Márquez', '1984': 'George Orwell', 'Don Quijote de la Mancha': 'Miguel de Cervantes'}\n",
            "2. Añadido 'El Hobbit': \n",
            " {'Cien años de Soledad': 'Gabriel García Márquez', '1984': 'George Orwell', 'Don Quijote de la Mancha': 'Miguel de Cervantes', 'El Hobbit': 'J.R.R. Tolkien'}\n",
            "3. Cambio 'Orwell': \n",
            " {'Cien años de Soledad': 'Gabriel García Márquez', '1984': 'Orwell', 'Don Quijote de la Mancha': 'Miguel de Cervantes', 'El Hobbit': 'J.R.R. Tolkien'}\n",
            "4. Eliminado 'Don Quijote de la Mancha': \n",
            " {'Cien años de Soledad': 'Gabriel García Márquez', '1984': 'Orwell', 'El Hobbit': 'J.R.R. Tolkien'}\n",
            "5. Diccionario final: \n",
            " {'Cien años de Soledad': 'Gabriel García Márquez', '1984': 'Orwell', 'El Hobbit': 'J.R.R. Tolkien'}\n"
          ]
        }
      ],
      "source": [
        "# Paso 1: Crear el diccionario de libros con sus autores.\n",
        "diccionario_libros_autores = {\n",
        "    \"Cien años de Soledad\": \"Gabriel García Márquez\",\n",
        "    \"1984\": \"George Orwell\",\n",
        "    \"Don Quijote de la Mancha\": \"Miguel de Cervantes\"\n",
        "}\n",
        "\n",
        "print(\"1. Creación diccionario: \" , diccionario_libros_autores)\n",
        "\n",
        "# Paso 2: Añadir un nuevo libro \"El Hobbit\" con autor \"J.R.R. Tolkien\".\n",
        "diccionario_libros_autores[\"El Hobbit\"] = \"J.R.R. Tolkien\"\n",
        "print(\"2. Añadido 'El Hobbit': \\n\", diccionario_libros_autores)\n",
        "\n",
        "# Paso 3: Actualizar el autor de \"1984\" a \"Orwell\".\n",
        "diccionario_libros_autores[\"1984\"] = \"Orwell\"\n",
        "print(\"3. Cambio 'Orwell': \\n\", diccionario_libros_autores)\n",
        "\n",
        "# Paso 4: Eliminar el libro \"Don Quijote de la Mancha\".\n",
        "diccionario_libros_autores.pop('Don Quijote de la Mancha')\n",
        "print(\"4. Eliminado 'Don Quijote de la Mancha': \\n\", diccionario_libros_autores)\n",
        "\n",
        "# Paso 5: Imprimir todos los libros y autores.\n",
        "print(\"5. Diccionario final: \\n\", diccionario_libros_autores)"
      ]
    },
    {
      "cell_type": "markdown",
      "metadata": {
        "id": "tb0O7ZCtGVav"
      },
      "source": [
        "## Ejercicio op aritmeticos"
      ]
    },
    {
      "cell_type": "markdown",
      "metadata": {
        "id": "jRTY3HCXGYxG"
      },
      "source": [
        "Calcula el área y el perímetro de un rectángulo de base 5 y altura 7."
      ]
    },
    {
      "cell_type": "code",
      "execution_count": null,
      "metadata": {
        "colab": {
          "base_uri": "https://localhost:8080/"
        },
        "id": "70XatBeGGafZ",
        "outputId": "af633a63-2e76-4c18-b822-1e67a1ae9af2"
      },
      "outputs": [
        {
          "output_type": "stream",
          "name": "stdout",
          "text": [
            "Base rectangulo : 5 u\n",
            "Altura rectangulo : 7 u\n",
            "Área rectángulo : 35 u^2\n",
            "Perímetro solo sumando: 24 u\n",
            "Perímetro multiplicando y sumando: 24 u\n"
          ]
        }
      ],
      "source": [
        "base = 5\n",
        "print(\"Base rectangulo :\", base, \"u\")\n",
        "altura = 7\n",
        "print(\"Altura rectangulo :\", altura, \"u\")\n",
        "print(f\"Área rectángulo : {base * altura}\", \"u^2\")\n",
        "print(f\"Perímetro solo sumando: {altura + altura + base + base}\", \"u\")\n",
        "print(f\"Perímetro multiplicando y sumando: {2 * base + 2 * altura}\", \"u\")\n"
      ]
    }
  ],
  "metadata": {
    "colab": {
      "provenance": [],
      "include_colab_link": true
    },
    "kernelspec": {
      "display_name": "Python 3",
      "name": "python3"
    },
    "language_info": {
      "codemirror_mode": {
        "name": "ipython",
        "version": 3
      },
      "file_extension": ".py",
      "mimetype": "text/x-python",
      "name": "python",
      "nbconvert_exporter": "python",
      "pygments_lexer": "ipython3",
      "version": "3.9.6"
    }
  },
  "nbformat": 4,
  "nbformat_minor": 0
}